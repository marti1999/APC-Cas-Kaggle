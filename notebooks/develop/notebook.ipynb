{
 "cells": [
  {
   "cell_type": "markdown",
   "metadata": {},
   "source": [
    "# Cas Kaggle\n",
    "\n",
    "L'objectiu d'aquest projecte és treballar amb la base de dades [Student Alcohol Consumption](https://www.kaggle.com/uciml/student-alcohol-consumption) i abarcar els següents apartats:\n",
    "- Anàlisi dels atributs (data mining)\n",
    "- Aplicar diversos mètodes d'aprenentatge\n",
    "- Visualització i presentació de resultats\n",
    "- Conclusions\n"
   ]
  },
  {
   "cell_type": "markdown",
   "metadata": {},
   "source": [
    "## Introducció\n",
    "El dataset esmentat a l'apartat superior tracta d'un seguit de dades d'estudiants de secundària que cursen l'assignatura de matemàtiques. Si bé el títol porta a pensar que l'objectiu final pot ser enfocat al consum d'alcohol, amb els atributs que es té també es pot tenir com a objectiu predir la nota final d'un alumne. \n",
    "\n",
    "A continuació es fa un breu resum dels atributs dsponibles:\n",
    "1. school - student's school (binary: 'GP' - Gabriel Pereira or 'MS' - Mousinho da Silveira)\n",
    "2. sex - student's sex (binary: 'F' - female or 'M' - male)\n",
    "3. age - student's age (numeric: from 15 to 22)\n",
    "4. address - student's home address type (binary: 'U' - urban or 'R' - rural)\n",
    "5. famsize - family size (binary: 'LE3' - less or equal to 3 or 'GT3' - greater than 3)\n",
    "6. Pstatus - parent's cohabitation status (binary: 'T' - living together or 'A' - apart)\n",
    "7. Medu - mother's education (numeric: 0 - none, 1 - primary education (4th grade), 2 – 5th to 9th grade, 3 – secondary education or 4 – higher education)\n",
    "8. Fedu - father's education (numeric: 0 - none, 1 - primary education (4th grade), 2 – 5th to 9th grade, 3 – secondary education or 4 – higher education)\n",
    "9. Mjob - mother's job (nominal: 'teacher', 'health' care related, civil 'services' (e.g. administrative or police), 'at_home' or 'other')\n",
    "10. Fjob - father's job (nominal: 'teacher', 'health' care related, civil 'services' (e.g. administrative or police), 'at_home' or 'other')\n",
    "11. reason - reason to choose this school (nominal: close to 'home', school 'reputation', 'course' preference or 'other')\n",
    "12. guardian - student's guardian (nominal: 'mother', 'father' or 'other')\n",
    "13. traveltime - home to school travel time (numeric: 1 - <15 min., 2 - 15 to 30 min., 3 - 30 min. to 1 hour, or 4 - >1 hour)\n",
    "14. studytime - weekly study time (numeric: 1 - <2 hours, 2 - 2 to 5 hours, 3 - 5 to 10 hours, or 4 - >10 hours)\n",
    "15. failures - number of past class failures (numeric: n if 1<=n<3, else 4)\n",
    "16. schoolsup - extra educational support (binary: yes or no)\n",
    "17. famsup - family educational support (binary: yes or no)\n",
    "18. paid - extra paid classes within the course subject (Math or Portuguese) (binary: yes or no)\n",
    "19. activities - extra-curricular activities (binary: yes or no)\n",
    "20. nursery - attended nursery school (binary: yes or no)\n",
    "21. higher - wants to take higher education (binary: yes or no)\n",
    "22. internet - Internet access at home (binary: yes or no)\n",
    "23. romantic - with a romantic relationship (binary: yes or no)\n",
    "24. famrel - quality of family relationships (numeric: from 1 - very bad to 5 - excellent)\n",
    "25. freetime - free time after school (numeric: from 1 - very low to 5 - very high)\n",
    "26. goout - going out with friends (numeric: from 1 - very low to 5 - very high)\n",
    "27. Dalc - workday alcohol consumption (numeric: from 1 - very low to 5 - very high)\n",
    "28. Walc - weekend alcohol consumption (numeric: from 1 - very low to 5 - very high)\n",
    "29. health - current health status (numeric: from 1 - very bad to 5 - very good)\n",
    "30. absences - number of school absences (numeric: from 0 to 93)\n",
    "31. G1 - first period grade (numeric: from 0 to 20)\n",
    "32. G2 - second period grade (numeric: from 0 to 20)\n",
    "33. G3 - final grade (numeric: from 0 to 20, output target)\n",
    "\n",
    "\n",
    "Els últims 3 atributs són, per exemple, els candidats a ser predits. A partir de la resta de dades dels alumnes, es pot intentar saber quines notes treuran. Més endevant es veurà quins atributs són més i menys importats a l'hora de fer les prediccions. \n"
   ]
  },
  {
   "cell_type": "markdown",
   "metadata": {},
   "source": [
    "## Data mining\n",
    "\n",
    "Aquest primer apartat es basarà més en veure realacions entre atributs i sobretot en el títol de la base de dades. S'intentarà vuere si el consum d'alcohol està més relacionat amb un perfil en concret d'estudiant.\n"
   ]
  },
  {
   "cell_type": "code",
   "execution_count": 27,
   "metadata": {},
   "outputs": [],
   "source": [
    "import pandas as pd\n",
    "import numpy as np\n",
    "\n",
    "import matplotlib.pyplot as plt\n",
    "import seaborn as sns\n",
    "\n",
    "import warnings\n",
    "warnings.filterwarnings('ignore')\n",
    "\n",
    "sns.set(style=\"whitegrid\")\n",
    "sns.set_color_codes(\"pastel\")\n",
    "%matplotlib inline"
   ]
  },
  {
   "cell_type": "code",
   "execution_count": 28,
   "metadata": {},
   "outputs": [],
   "source": [
    "db = pd.read_csv(\"./data/student-por.csv\")"
   ]
  },
  {
   "cell_type": "markdown",
   "metadata": {},
   "source": [
    "El primer que es pot fer és veure els primers registres per fer-se una idea de com són les dades"
   ]
  },
  {
   "cell_type": "code",
   "execution_count": 29,
   "metadata": {
    "scrolled": true
   },
   "outputs": [
    {
     "data": {
      "text/html": [
       "<div>\n",
       "<style scoped>\n",
       "    .dataframe tbody tr th:only-of-type {\n",
       "        vertical-align: middle;\n",
       "    }\n",
       "\n",
       "    .dataframe tbody tr th {\n",
       "        vertical-align: top;\n",
       "    }\n",
       "\n",
       "    .dataframe thead th {\n",
       "        text-align: right;\n",
       "    }\n",
       "</style>\n",
       "<table border=\"1\" class=\"dataframe\">\n",
       "  <thead>\n",
       "    <tr style=\"text-align: right;\">\n",
       "      <th></th>\n",
       "      <th>school</th>\n",
       "      <th>sex</th>\n",
       "      <th>age</th>\n",
       "      <th>address</th>\n",
       "      <th>famsize</th>\n",
       "      <th>Pstatus</th>\n",
       "      <th>Medu</th>\n",
       "      <th>Fedu</th>\n",
       "      <th>Mjob</th>\n",
       "      <th>Fjob</th>\n",
       "      <th>...</th>\n",
       "      <th>famrel</th>\n",
       "      <th>freetime</th>\n",
       "      <th>goout</th>\n",
       "      <th>Dalc</th>\n",
       "      <th>Walc</th>\n",
       "      <th>health</th>\n",
       "      <th>absences</th>\n",
       "      <th>G1</th>\n",
       "      <th>G2</th>\n",
       "      <th>G3</th>\n",
       "    </tr>\n",
       "  </thead>\n",
       "  <tbody>\n",
       "    <tr>\n",
       "      <th>0</th>\n",
       "      <td>GP</td>\n",
       "      <td>F</td>\n",
       "      <td>18</td>\n",
       "      <td>U</td>\n",
       "      <td>GT3</td>\n",
       "      <td>A</td>\n",
       "      <td>4</td>\n",
       "      <td>4</td>\n",
       "      <td>at_home</td>\n",
       "      <td>teacher</td>\n",
       "      <td>...</td>\n",
       "      <td>4</td>\n",
       "      <td>3</td>\n",
       "      <td>4</td>\n",
       "      <td>1</td>\n",
       "      <td>1</td>\n",
       "      <td>3</td>\n",
       "      <td>4</td>\n",
       "      <td>0</td>\n",
       "      <td>11</td>\n",
       "      <td>11</td>\n",
       "    </tr>\n",
       "    <tr>\n",
       "      <th>1</th>\n",
       "      <td>GP</td>\n",
       "      <td>F</td>\n",
       "      <td>17</td>\n",
       "      <td>U</td>\n",
       "      <td>GT3</td>\n",
       "      <td>T</td>\n",
       "      <td>1</td>\n",
       "      <td>1</td>\n",
       "      <td>at_home</td>\n",
       "      <td>other</td>\n",
       "      <td>...</td>\n",
       "      <td>5</td>\n",
       "      <td>3</td>\n",
       "      <td>3</td>\n",
       "      <td>1</td>\n",
       "      <td>1</td>\n",
       "      <td>3</td>\n",
       "      <td>2</td>\n",
       "      <td>9</td>\n",
       "      <td>11</td>\n",
       "      <td>11</td>\n",
       "    </tr>\n",
       "    <tr>\n",
       "      <th>2</th>\n",
       "      <td>GP</td>\n",
       "      <td>F</td>\n",
       "      <td>15</td>\n",
       "      <td>U</td>\n",
       "      <td>LE3</td>\n",
       "      <td>T</td>\n",
       "      <td>1</td>\n",
       "      <td>1</td>\n",
       "      <td>at_home</td>\n",
       "      <td>other</td>\n",
       "      <td>...</td>\n",
       "      <td>4</td>\n",
       "      <td>3</td>\n",
       "      <td>2</td>\n",
       "      <td>2</td>\n",
       "      <td>3</td>\n",
       "      <td>3</td>\n",
       "      <td>6</td>\n",
       "      <td>12</td>\n",
       "      <td>13</td>\n",
       "      <td>12</td>\n",
       "    </tr>\n",
       "    <tr>\n",
       "      <th>3</th>\n",
       "      <td>GP</td>\n",
       "      <td>F</td>\n",
       "      <td>15</td>\n",
       "      <td>U</td>\n",
       "      <td>GT3</td>\n",
       "      <td>T</td>\n",
       "      <td>4</td>\n",
       "      <td>2</td>\n",
       "      <td>health</td>\n",
       "      <td>services</td>\n",
       "      <td>...</td>\n",
       "      <td>3</td>\n",
       "      <td>2</td>\n",
       "      <td>2</td>\n",
       "      <td>1</td>\n",
       "      <td>1</td>\n",
       "      <td>5</td>\n",
       "      <td>0</td>\n",
       "      <td>14</td>\n",
       "      <td>14</td>\n",
       "      <td>14</td>\n",
       "    </tr>\n",
       "    <tr>\n",
       "      <th>4</th>\n",
       "      <td>GP</td>\n",
       "      <td>F</td>\n",
       "      <td>16</td>\n",
       "      <td>U</td>\n",
       "      <td>GT3</td>\n",
       "      <td>T</td>\n",
       "      <td>3</td>\n",
       "      <td>3</td>\n",
       "      <td>other</td>\n",
       "      <td>other</td>\n",
       "      <td>...</td>\n",
       "      <td>4</td>\n",
       "      <td>3</td>\n",
       "      <td>2</td>\n",
       "      <td>1</td>\n",
       "      <td>2</td>\n",
       "      <td>5</td>\n",
       "      <td>0</td>\n",
       "      <td>11</td>\n",
       "      <td>13</td>\n",
       "      <td>13</td>\n",
       "    </tr>\n",
       "  </tbody>\n",
       "</table>\n",
       "<p>5 rows × 33 columns</p>\n",
       "</div>"
      ],
      "text/plain": [
       "  school sex  age address famsize Pstatus  Medu  Fedu     Mjob      Fjob  ...  \\\n",
       "0     GP   F   18       U     GT3       A     4     4  at_home   teacher  ...   \n",
       "1     GP   F   17       U     GT3       T     1     1  at_home     other  ...   \n",
       "2     GP   F   15       U     LE3       T     1     1  at_home     other  ...   \n",
       "3     GP   F   15       U     GT3       T     4     2   health  services  ...   \n",
       "4     GP   F   16       U     GT3       T     3     3    other     other  ...   \n",
       "\n",
       "  famrel freetime  goout  Dalc  Walc health absences  G1  G2  G3  \n",
       "0      4        3      4     1     1      3        4   0  11  11  \n",
       "1      5        3      3     1     1      3        2   9  11  11  \n",
       "2      4        3      2     2     3      3        6  12  13  12  \n",
       "3      3        2      2     1     1      5        0  14  14  14  \n",
       "4      4        3      2     1     2      5        0  11  13  13  \n",
       "\n",
       "[5 rows x 33 columns]"
      ]
     },
     "execution_count": 29,
     "metadata": {},
     "output_type": "execute_result"
    }
   ],
   "source": [
    "db.head(5)"
   ]
  },
  {
   "cell_type": "markdown",
   "metadata": {},
   "source": [
    "És també molt útil extreure dades estadístiques dels atributs per tenir una idea de la distribució, la mitjana, si hi ha bastanta desviació, etc...\n",
    "També permet veure que cap atribut té valors nuls, doncs tots tenen el mateix nombre de registres."
   ]
  },
  {
   "cell_type": "code",
   "execution_count": 30,
   "metadata": {
    "scrolled": true
   },
   "outputs": [
    {
     "data": {
      "text/html": [
       "<div>\n",
       "<style scoped>\n",
       "    .dataframe tbody tr th:only-of-type {\n",
       "        vertical-align: middle;\n",
       "    }\n",
       "\n",
       "    .dataframe tbody tr th {\n",
       "        vertical-align: top;\n",
       "    }\n",
       "\n",
       "    .dataframe thead th {\n",
       "        text-align: right;\n",
       "    }\n",
       "</style>\n",
       "<table border=\"1\" class=\"dataframe\">\n",
       "  <thead>\n",
       "    <tr style=\"text-align: right;\">\n",
       "      <th></th>\n",
       "      <th>age</th>\n",
       "      <th>Medu</th>\n",
       "      <th>Fedu</th>\n",
       "      <th>traveltime</th>\n",
       "      <th>studytime</th>\n",
       "      <th>failures</th>\n",
       "      <th>famrel</th>\n",
       "      <th>freetime</th>\n",
       "      <th>goout</th>\n",
       "      <th>Dalc</th>\n",
       "      <th>Walc</th>\n",
       "      <th>health</th>\n",
       "      <th>absences</th>\n",
       "      <th>G1</th>\n",
       "      <th>G2</th>\n",
       "      <th>G3</th>\n",
       "    </tr>\n",
       "  </thead>\n",
       "  <tbody>\n",
       "    <tr>\n",
       "      <th>count</th>\n",
       "      <td>649.000000</td>\n",
       "      <td>649.000000</td>\n",
       "      <td>649.000000</td>\n",
       "      <td>649.000000</td>\n",
       "      <td>649.000000</td>\n",
       "      <td>649.000000</td>\n",
       "      <td>649.000000</td>\n",
       "      <td>649.000000</td>\n",
       "      <td>649.000000</td>\n",
       "      <td>649.000000</td>\n",
       "      <td>649.000000</td>\n",
       "      <td>649.000000</td>\n",
       "      <td>649.000000</td>\n",
       "      <td>649.000000</td>\n",
       "      <td>649.000000</td>\n",
       "      <td>649.000000</td>\n",
       "    </tr>\n",
       "    <tr>\n",
       "      <th>mean</th>\n",
       "      <td>16.744222</td>\n",
       "      <td>2.514638</td>\n",
       "      <td>2.306626</td>\n",
       "      <td>1.568567</td>\n",
       "      <td>1.930663</td>\n",
       "      <td>0.221880</td>\n",
       "      <td>3.930663</td>\n",
       "      <td>3.180277</td>\n",
       "      <td>3.184900</td>\n",
       "      <td>1.502311</td>\n",
       "      <td>2.280431</td>\n",
       "      <td>3.536210</td>\n",
       "      <td>3.659476</td>\n",
       "      <td>11.399076</td>\n",
       "      <td>11.570108</td>\n",
       "      <td>11.906009</td>\n",
       "    </tr>\n",
       "    <tr>\n",
       "      <th>std</th>\n",
       "      <td>1.218138</td>\n",
       "      <td>1.134552</td>\n",
       "      <td>1.099931</td>\n",
       "      <td>0.748660</td>\n",
       "      <td>0.829510</td>\n",
       "      <td>0.593235</td>\n",
       "      <td>0.955717</td>\n",
       "      <td>1.051093</td>\n",
       "      <td>1.175766</td>\n",
       "      <td>0.924834</td>\n",
       "      <td>1.284380</td>\n",
       "      <td>1.446259</td>\n",
       "      <td>4.640759</td>\n",
       "      <td>2.745265</td>\n",
       "      <td>2.913639</td>\n",
       "      <td>3.230656</td>\n",
       "    </tr>\n",
       "    <tr>\n",
       "      <th>min</th>\n",
       "      <td>15.000000</td>\n",
       "      <td>0.000000</td>\n",
       "      <td>0.000000</td>\n",
       "      <td>1.000000</td>\n",
       "      <td>1.000000</td>\n",
       "      <td>0.000000</td>\n",
       "      <td>1.000000</td>\n",
       "      <td>1.000000</td>\n",
       "      <td>1.000000</td>\n",
       "      <td>1.000000</td>\n",
       "      <td>1.000000</td>\n",
       "      <td>1.000000</td>\n",
       "      <td>0.000000</td>\n",
       "      <td>0.000000</td>\n",
       "      <td>0.000000</td>\n",
       "      <td>0.000000</td>\n",
       "    </tr>\n",
       "    <tr>\n",
       "      <th>25%</th>\n",
       "      <td>16.000000</td>\n",
       "      <td>2.000000</td>\n",
       "      <td>1.000000</td>\n",
       "      <td>1.000000</td>\n",
       "      <td>1.000000</td>\n",
       "      <td>0.000000</td>\n",
       "      <td>4.000000</td>\n",
       "      <td>3.000000</td>\n",
       "      <td>2.000000</td>\n",
       "      <td>1.000000</td>\n",
       "      <td>1.000000</td>\n",
       "      <td>2.000000</td>\n",
       "      <td>0.000000</td>\n",
       "      <td>10.000000</td>\n",
       "      <td>10.000000</td>\n",
       "      <td>10.000000</td>\n",
       "    </tr>\n",
       "    <tr>\n",
       "      <th>50%</th>\n",
       "      <td>17.000000</td>\n",
       "      <td>2.000000</td>\n",
       "      <td>2.000000</td>\n",
       "      <td>1.000000</td>\n",
       "      <td>2.000000</td>\n",
       "      <td>0.000000</td>\n",
       "      <td>4.000000</td>\n",
       "      <td>3.000000</td>\n",
       "      <td>3.000000</td>\n",
       "      <td>1.000000</td>\n",
       "      <td>2.000000</td>\n",
       "      <td>4.000000</td>\n",
       "      <td>2.000000</td>\n",
       "      <td>11.000000</td>\n",
       "      <td>11.000000</td>\n",
       "      <td>12.000000</td>\n",
       "    </tr>\n",
       "    <tr>\n",
       "      <th>75%</th>\n",
       "      <td>18.000000</td>\n",
       "      <td>4.000000</td>\n",
       "      <td>3.000000</td>\n",
       "      <td>2.000000</td>\n",
       "      <td>2.000000</td>\n",
       "      <td>0.000000</td>\n",
       "      <td>5.000000</td>\n",
       "      <td>4.000000</td>\n",
       "      <td>4.000000</td>\n",
       "      <td>2.000000</td>\n",
       "      <td>3.000000</td>\n",
       "      <td>5.000000</td>\n",
       "      <td>6.000000</td>\n",
       "      <td>13.000000</td>\n",
       "      <td>13.000000</td>\n",
       "      <td>14.000000</td>\n",
       "    </tr>\n",
       "    <tr>\n",
       "      <th>max</th>\n",
       "      <td>22.000000</td>\n",
       "      <td>4.000000</td>\n",
       "      <td>4.000000</td>\n",
       "      <td>4.000000</td>\n",
       "      <td>4.000000</td>\n",
       "      <td>3.000000</td>\n",
       "      <td>5.000000</td>\n",
       "      <td>5.000000</td>\n",
       "      <td>5.000000</td>\n",
       "      <td>5.000000</td>\n",
       "      <td>5.000000</td>\n",
       "      <td>5.000000</td>\n",
       "      <td>32.000000</td>\n",
       "      <td>19.000000</td>\n",
       "      <td>19.000000</td>\n",
       "      <td>19.000000</td>\n",
       "    </tr>\n",
       "  </tbody>\n",
       "</table>\n",
       "</div>"
      ],
      "text/plain": [
       "              age        Medu        Fedu  traveltime   studytime    failures  \\\n",
       "count  649.000000  649.000000  649.000000  649.000000  649.000000  649.000000   \n",
       "mean    16.744222    2.514638    2.306626    1.568567    1.930663    0.221880   \n",
       "std      1.218138    1.134552    1.099931    0.748660    0.829510    0.593235   \n",
       "min     15.000000    0.000000    0.000000    1.000000    1.000000    0.000000   \n",
       "25%     16.000000    2.000000    1.000000    1.000000    1.000000    0.000000   \n",
       "50%     17.000000    2.000000    2.000000    1.000000    2.000000    0.000000   \n",
       "75%     18.000000    4.000000    3.000000    2.000000    2.000000    0.000000   \n",
       "max     22.000000    4.000000    4.000000    4.000000    4.000000    3.000000   \n",
       "\n",
       "           famrel    freetime       goout        Dalc        Walc      health  \\\n",
       "count  649.000000  649.000000  649.000000  649.000000  649.000000  649.000000   \n",
       "mean     3.930663    3.180277    3.184900    1.502311    2.280431    3.536210   \n",
       "std      0.955717    1.051093    1.175766    0.924834    1.284380    1.446259   \n",
       "min      1.000000    1.000000    1.000000    1.000000    1.000000    1.000000   \n",
       "25%      4.000000    3.000000    2.000000    1.000000    1.000000    2.000000   \n",
       "50%      4.000000    3.000000    3.000000    1.000000    2.000000    4.000000   \n",
       "75%      5.000000    4.000000    4.000000    2.000000    3.000000    5.000000   \n",
       "max      5.000000    5.000000    5.000000    5.000000    5.000000    5.000000   \n",
       "\n",
       "         absences          G1          G2          G3  \n",
       "count  649.000000  649.000000  649.000000  649.000000  \n",
       "mean     3.659476   11.399076   11.570108   11.906009  \n",
       "std      4.640759    2.745265    2.913639    3.230656  \n",
       "min      0.000000    0.000000    0.000000    0.000000  \n",
       "25%      0.000000   10.000000   10.000000   10.000000  \n",
       "50%      2.000000   11.000000   11.000000   12.000000  \n",
       "75%      6.000000   13.000000   13.000000   14.000000  \n",
       "max     32.000000   19.000000   19.000000   19.000000  "
      ]
     },
     "execution_count": 30,
     "metadata": {},
     "output_type": "execute_result"
    }
   ],
   "source": [
    "    db.describe()"
   ]
  },
  {
   "cell_type": "markdown",
   "metadata": {},
   "source": [
    "Es pot començar analitzat atributs de forma independent. Tenint en compte del que tracta el dataset, els atributs de gènere, edat i hores d'estudi poden ser bastant significatius."
   ]
  },
  {
   "cell_type": "code",
   "execution_count": 31,
   "metadata": {
    "scrolled": false
   },
   "outputs": [
    {
     "data": {
      "image/png": "[encoded data removed]",
      "text/plain": [
       "<Figure size 288x288 with 1 Axes>"
      ]
     },
     "metadata": {},
     "output_type": "display_data"
    },
    {
     "data": {
      "image/png": "[encoded data removed]",
      "text/plain": [
       "<Figure size 360x288 with 1 Axes>"
      ]
     },
     "metadata": {
      "needs_background": "light"
     },
     "output_type": "display_data"
    },
    {
     "data": {
      "image/png": "[encoded data removed]",
      "text/plain": [
       "<Figure size 288x288 with 1 Axes>"
      ]
     },
     "metadata": {},
     "output_type": "display_data"
    }
   ],
   "source": [
    "f, ax = plt.subplots(figsize=(4, 4))\n",
    "plt.pie(db['sex'].value_counts().tolist(), \n",
    "        labels=['Female', 'Male'],\n",
    "        autopct='%1.1f%%', startangle=90)\n",
    "axis = plt.axis('equal')\n",
    "\n",
    "fig, ax = plt.subplots(figsize=(5, 4))\n",
    "sns.distplot(db['age'],  \n",
    "             hist_kws={\"alpha\": 1, \"color\": \"#a2cffe\"}, \n",
    "             kde=False, bins=8)\n",
    "ax = ax.set(ylabel=\"Count\", xlabel=\"Age\")\n",
    "\n",
    "f, ax = plt.subplots(figsize=(4, 4))\n",
    "plt.pie(db['studytime'].value_counts().tolist(), \n",
    "        labels=['2 to 5 hours', '<2 hours', '5 to 10 hours', '>10 hours'], \n",
    "        autopct='%1.1f%%', startangle=0)\n",
    "axis = plt.axis('equal')"
   ]
  },
  {
   "cell_type": "markdown",
   "metadata": {},
   "source": [
    "També es pot treure dades de dos atributs a la vegada. La següent imatge permet esbrinar que una escola segurament està al centre de la ciutat i l'altre a les afores. Adicionalment, també es veu que l'escola 'GB' té molts més alumnes que no pas l'altra."
   ]
  },
  {
   "cell_type": "code",
   "execution_count": 32,
   "metadata": {},
   "outputs": [
    {
     "data": {
      "text/plain": [
       "<AxesSubplot:xlabel='school', ylabel='count'>"
      ]
     },
     "execution_count": 32,
     "metadata": {},
     "output_type": "execute_result"
    },
    {
     "data": {
      "image/png": "[encoded data removed]",
      "text/plain": [
       "<Figure size 432x288 with 1 Axes>"
      ]
     },
     "metadata": {
      "needs_background": "light"
     },
     "output_type": "display_data"
    }
   ],
   "source": [
    "sns.countplot(x=\"school\", hue =\"address\", data=db)\n",
    "\n"
   ]
  },
  {
   "cell_type": "markdown",
   "metadata": {},
   "source": [
    "També es pot veure dades sobre el temps a arribar a l'escola. Tot i haver-hi molts menys alumnes que viuen a zones rurals, hi ha més que triguen més arribar a l'escola que no pas dels que viuen a zones urbanes."
   ]
  },
  {
   "cell_type": "code",
   "execution_count": 33,
   "metadata": {},
   "outputs": [
    {
     "data": {
      "text/plain": [
       "<AxesSubplot:xlabel='address', ylabel='count'>"
      ]
     },
     "execution_count": 33,
     "metadata": {},
     "output_type": "execute_result"
    },
    {
     "data": {
      "image/png": "[encoded data removed]",
      "text/plain": [
       "<Figure size 432x288 with 1 Axes>"
      ]
     },
     "metadata": {
      "needs_background": "light"
     },
     "output_type": "display_data"
    }
   ],
   "source": [
    "sns.countplot(x=\"address\", hue =\"traveltime\", data=db)"
   ]
  },
  {
   "cell_type": "markdown",
   "metadata": {},
   "source": [
    "Passant a dades més relacionades amb l'alcohol i el rendiment escolar, la següent imatge mostra la relació entre el consum d'alcohol els dies entre setmana i les hores d'estudi. Els resultats obtinguts no mostren gaire correlació entre ambdós atributs. "
   ]
  },
  {
   "cell_type": "code",
   "execution_count": 34,
   "metadata": {},
   "outputs": [
    {
     "data": {
      "text/plain": [
       "<AxesSubplot:xlabel='studytime', ylabel='count'>"
      ]
     },
     "execution_count": 34,
     "metadata": {},
     "output_type": "execute_result"
    },
    {
     "data": {
      "image/png": "[encoded data removed]",
      "text/plain": [
       "<Figure size 432x288 with 1 Axes>"
      ]
     },
     "metadata": {
      "needs_background": "light"
     },
     "output_type": "display_data"
    }
   ],
   "source": [
    "sns.countplot(x=\"studytime\", hue =\"Walc\", data=db)"
   ]
  },
  {
   "cell_type": "markdown",
   "metadata": {},
   "source": [
    "També es poden trobar algunes dades curioses. La següent imatge mostra la relació entre el consum d'alcohol entre setmana i la salut dels alumnes, separats per gènere. Mentre que la salud dels homes no es veu influenciada pel consum d'alcohol, amb les dones no passa el mateix. El fet curiós és que a més consum d'alcohol, més bona salut tenen les dones."
   ]
  },
  {
   "cell_type": "code",
   "execution_count": 35,
   "metadata": {},
   "outputs": [
    {
     "data": {
      "text/plain": [
       "<seaborn.axisgrid.FacetGrid at 0x1bbc8f76bb0>"
      ]
     },
     "execution_count": 35,
     "metadata": {},
     "output_type": "execute_result"
    },
    {
     "data": {
      "image/png": "[encoded data removed]",
      "text/plain": [
       "<Figure size 408.85x360 with 1 Axes>"
      ]
     },
     "metadata": {
      "needs_background": "light"
     },
     "output_type": "display_data"
    }
   ],
   "source": [
    "plot2 = sns.factorplot(x=\"Dalc\", y=\"health\", hue=\"sex\", data=db)\n",
    "plot2.set(ylabel=\"Health\", xlabel=\"Workday Alcohol Consumption\")"
   ]
  },
  {
   "cell_type": "markdown",
   "metadata": {},
   "source": [
    "Com a gràfic que s'apropa encara més a l'objectiu, es pot mirar de relacionar el consum d'alcohol amb les notes. Ara sí que ja es veu una relació més bona entre els dos atributs. Clarament, les notes baixes estan relacionades als alumnes que tenen un consum d'alcohol més elevat. "
   ]
  },
  {
   "cell_type": "code",
   "execution_count": 36,
   "metadata": {},
   "outputs": [
    {
     "data": {
      "text/plain": [
       "<seaborn.axisgrid.FacetGrid at 0x1bbc8d51f10>"
      ]
     },
     "execution_count": 36,
     "metadata": {},
     "output_type": "execute_result"
    },
    {
     "data": {
      "image/png": "[encoded data removed]",
      "text/plain": [
       "<Figure size 360x360 with 1 Axes>"
      ]
     },
     "metadata": {
      "needs_background": "light"
     },
     "output_type": "display_data"
    }
   ],
   "source": [
    "plot2 = sns.factorplot(x=\"G3\", y=\"Dalc\", data=db)\n",
    "plot2.set(ylabel=\"Workday Alcohol Consumption\", xlabel=\"Final Grade\")"
   ]
  },
  {
   "cell_type": "markdown",
   "metadata": {},
   "source": [
    "## Prediccions\n",
    "En aquest apartat s'aplicaran un seguir de mètodes d'aprenentatge per fer prediccions. Com a objectiu s'intentarà predir l'atribut 'Final Grade'.\n",
    "\n",
    "### Codificació d'atributs\n",
    "Un dels primers pasos és desfer-se dels atributs amb dades categòriques en format string. Per fer-ho s'utilitza un encoder que assigna un número a cada valor. A la taula inferior es veu que els atributs categòrics, com per exemple 'Mjob', ara tenen els valors codificats en números."
   ]
  },
  {
   "cell_type": "code",
   "execution_count": 37,
   "metadata": {},
   "outputs": [
    {
     "data": {
      "text/html": [
       "<div>\n",
       "<style scoped>\n",
       "    .dataframe tbody tr th:only-of-type {\n",
       "        vertical-align: middle;\n",
       "    }\n",
       "\n",
       "    .dataframe tbody tr th {\n",
       "        vertical-align: top;\n",
       "    }\n",
       "\n",
       "    .dataframe thead th {\n",
       "        text-align: right;\n",
       "    }\n",
       "</style>\n",
       "<table border=\"1\" class=\"dataframe\">\n",
       "  <thead>\n",
       "    <tr style=\"text-align: right;\">\n",
       "      <th></th>\n",
       "      <th>school</th>\n",
       "      <th>sex</th>\n",
       "      <th>age</th>\n",
       "      <th>address</th>\n",
       "      <th>famsize</th>\n",
       "      <th>Pstatus</th>\n",
       "      <th>Medu</th>\n",
       "      <th>Fedu</th>\n",
       "      <th>Mjob</th>\n",
       "      <th>Fjob</th>\n",
       "      <th>...</th>\n",
       "      <th>famrel</th>\n",
       "      <th>freetime</th>\n",
       "      <th>goout</th>\n",
       "      <th>Dalc</th>\n",
       "      <th>Walc</th>\n",
       "      <th>health</th>\n",
       "      <th>absences</th>\n",
       "      <th>G1</th>\n",
       "      <th>G2</th>\n",
       "      <th>G3</th>\n",
       "    </tr>\n",
       "  </thead>\n",
       "  <tbody>\n",
       "    <tr>\n",
       "      <th>0</th>\n",
       "      <td>0</td>\n",
       "      <td>0</td>\n",
       "      <td>18</td>\n",
       "      <td>1</td>\n",
       "      <td>0</td>\n",
       "      <td>0</td>\n",
       "      <td>4</td>\n",
       "      <td>4</td>\n",
       "      <td>0</td>\n",
       "      <td>4</td>\n",
       "      <td>...</td>\n",
       "      <td>4</td>\n",
       "      <td>3</td>\n",
       "      <td>4</td>\n",
       "      <td>1</td>\n",
       "      <td>1</td>\n",
       "      <td>3</td>\n",
       "      <td>4</td>\n",
       "      <td>0</td>\n",
       "      <td>11</td>\n",
       "      <td>11</td>\n",
       "    </tr>\n",
       "    <tr>\n",
       "      <th>1</th>\n",
       "      <td>0</td>\n",
       "      <td>0</td>\n",
       "      <td>17</td>\n",
       "      <td>1</td>\n",
       "      <td>0</td>\n",
       "      <td>1</td>\n",
       "      <td>1</td>\n",
       "      <td>1</td>\n",
       "      <td>0</td>\n",
       "      <td>2</td>\n",
       "      <td>...</td>\n",
       "      <td>5</td>\n",
       "      <td>3</td>\n",
       "      <td>3</td>\n",
       "      <td>1</td>\n",
       "      <td>1</td>\n",
       "      <td>3</td>\n",
       "      <td>2</td>\n",
       "      <td>9</td>\n",
       "      <td>11</td>\n",
       "      <td>11</td>\n",
       "    </tr>\n",
       "    <tr>\n",
       "      <th>2</th>\n",
       "      <td>0</td>\n",
       "      <td>0</td>\n",
       "      <td>15</td>\n",
       "      <td>1</td>\n",
       "      <td>1</td>\n",
       "      <td>1</td>\n",
       "      <td>1</td>\n",
       "      <td>1</td>\n",
       "      <td>0</td>\n",
       "      <td>2</td>\n",
       "      <td>...</td>\n",
       "      <td>4</td>\n",
       "      <td>3</td>\n",
       "      <td>2</td>\n",
       "      <td>2</td>\n",
       "      <td>3</td>\n",
       "      <td>3</td>\n",
       "      <td>6</td>\n",
       "      <td>12</td>\n",
       "      <td>13</td>\n",
       "      <td>12</td>\n",
       "    </tr>\n",
       "    <tr>\n",
       "      <th>3</th>\n",
       "      <td>0</td>\n",
       "      <td>0</td>\n",
       "      <td>15</td>\n",
       "      <td>1</td>\n",
       "      <td>0</td>\n",
       "      <td>1</td>\n",
       "      <td>4</td>\n",
       "      <td>2</td>\n",
       "      <td>1</td>\n",
       "      <td>3</td>\n",
       "      <td>...</td>\n",
       "      <td>3</td>\n",
       "      <td>2</td>\n",
       "      <td>2</td>\n",
       "      <td>1</td>\n",
       "      <td>1</td>\n",
       "      <td>5</td>\n",
       "      <td>0</td>\n",
       "      <td>14</td>\n",
       "      <td>14</td>\n",
       "      <td>14</td>\n",
       "    </tr>\n",
       "    <tr>\n",
       "      <th>4</th>\n",
       "      <td>0</td>\n",
       "      <td>0</td>\n",
       "      <td>16</td>\n",
       "      <td>1</td>\n",
       "      <td>0</td>\n",
       "      <td>1</td>\n",
       "      <td>3</td>\n",
       "      <td>3</td>\n",
       "      <td>2</td>\n",
       "      <td>2</td>\n",
       "      <td>...</td>\n",
       "      <td>4</td>\n",
       "      <td>3</td>\n",
       "      <td>2</td>\n",
       "      <td>1</td>\n",
       "      <td>2</td>\n",
       "      <td>5</td>\n",
       "      <td>0</td>\n",
       "      <td>11</td>\n",
       "      <td>13</td>\n",
       "      <td>13</td>\n",
       "    </tr>\n",
       "  </tbody>\n",
       "</table>\n",
       "<p>5 rows × 33 columns</p>\n",
       "</div>"
      ],
      "text/plain": [
       "   school  sex  age  address  famsize  Pstatus  Medu  Fedu  Mjob  Fjob  ...  \\\n",
       "0       0    0   18        1        0        0     4     4     0     4  ...   \n",
       "1       0    0   17        1        0        1     1     1     0     2  ...   \n",
       "2       0    0   15        1        1        1     1     1     0     2  ...   \n",
       "3       0    0   15        1        0        1     4     2     1     3  ...   \n",
       "4       0    0   16        1        0        1     3     3     2     2  ...   \n",
       "\n",
       "   famrel  freetime  goout  Dalc  Walc  health  absences  G1  G2  G3  \n",
       "0       4         3      4     1     1       3         4   0  11  11  \n",
       "1       5         3      3     1     1       3         2   9  11  11  \n",
       "2       4         3      2     2     3       3         6  12  13  12  \n",
       "3       3         2      2     1     1       5         0  14  14  14  \n",
       "4       4         3      2     1     2       5         0  11  13  13  \n",
       "\n",
       "[5 rows x 33 columns]"
      ]
     },
     "execution_count": 37,
     "metadata": {},
     "output_type": "execute_result"
    }
   ],
   "source": [
    "from sklearn.preprocessing import LabelEncoder\n",
    "db = pd.read_csv(\"./data/student-por.csv\")\n",
    "le = LabelEncoder()\n",
    "for c in db.columns:\n",
    "        if db.dtypes[c] == object:\n",
    "            le.fit(db[c].astype(str))\n",
    "            db[c] = le.transform(db[c].astype(str))\n",
    "        \n",
    "db.head(5)"
   ]
  },
  {
   "cell_type": "markdown",
   "metadata": {},
   "source": [
    "### Outliers\n",
    "Una altra manera de preprocessar les dades és detectar els outliers i, en cas d'haver-hi, corregir-los.\n",
    "Es poden solucionar de 2 maneres:\n",
    "1. Omplir el seu valor amb la mitjana\n",
    "2. Esborrar el registre\n",
    "\n",
    "Normalment, quan hi ha només un o dos atrbut amb outliers a un registre, aquests s'omplem amb el valor de la mitjana de l'atribut en qüestió. \n",
    "En canvi, les mostres que tenen bastants atributs amb outliers són eliminades directament."
   ]
  },
  {
   "cell_type": "code",
   "execution_count": 38,
   "metadata": {},
   "outputs": [],
   "source": [
    "from collections import Counter\n",
    "\n",
    "def detectOutliers(df, atributs, maxOutliers):\n",
    "    # maxOutliers és el nombre màxim d'outliers permesos per mostra\n",
    "\n",
    "    indexsOutliers = []\n",
    "\n",
    "    # iterem sobre tots els atributs\n",
    "    for atr in atributs:\n",
    "        # primer quartil\n",
    "        Q1 = np.percentile(df[atr], 25)\n",
    "        # tercer quartil\n",
    "        Q3 = np.percentile(df[atr], 75)\n",
    "        # Interquartile range (IQR)\n",
    "        IQR = Q3 - Q1\n",
    "\n",
    "        # zona de tall\n",
    "        cutOff = 1.5 * IQR\n",
    "\n",
    "        # Busquem els indexs dels registres fora de la zona de tall\n",
    "        indexsOutliersAtr = df[(df[atr] < Q1 - cutOff) | (df[atr] > Q3 + cutOff)].index\n",
    "\n",
    "        # Els guardem a la llista general\n",
    "        indexsOutliers.extend(indexsOutliersAtr)\n",
    "\n",
    "    # contem quantes vegades ha aparegut cada índex i seleccinem els que sobrepasen el límit especificat\n",
    "    indexsOutliers = Counter(indexsOutliers)\n",
    "    indexsDrop = list(k for k, v in indexsOutliers.items() if v > maxOutliers)\n",
    "\n",
    "    return indexsDrop\n",
    "\n",
    "def deleteRowsByIndex(df, indexs):\n",
    "    rows = df.index[indexs]\n",
    "    df.drop(rows, inplace=True)\n",
    "    return df\n",
    "\n",
    "db.loc[detectOutliers(db,[\"age\",\"Dalc\",\"Walc\",\"absences\"], 0)]\n",
    "db = deleteRowsByIndex(db, detectOutliers(db,[\"age\",\"Dalc\",\"Walc\",\"absences\"], 0))\n"
   ]
  },
  {
   "cell_type": "markdown",
   "metadata": {},
   "source": [
    "### Separació de dades\n",
    "El següent pas és separar les mostres entre la X i la Y. Per assegurar-nos que les mètriques dels models són correctes, s'utilitzarà la tècnica anomenada cross validation. Per tant, també és necessari tenir un KFold únic per tots els cross validations. "
   ]
  },
  {
   "cell_type": "code",
   "execution_count": 39,
   "metadata": {},
   "outputs": [],
   "source": [
    "from sklearn.model_selection import train_test_split\n",
    "from sklearn.model_selection import KFold\n",
    "y = db['G3']\n",
    "x = db.drop(columns='G3')\n",
    "kf = KFold(n_splits=5, random_state=0, shuffle=True)"
   ]
  },
  {
   "cell_type": "markdown",
   "metadata": {},
   "source": [
    "### Escalat de dades\n",
    "També és recomanable escalar les dades per tal que tots els atributs tinguin el mateix pes durant la regressió. Com que s'estan canviant els valors, cal tenir en compte de no modificar la Y, és a dir, el valor a predir."
   ]
  },
  {
   "cell_type": "code",
   "execution_count": 40,
   "metadata": {},
   "outputs": [],
   "source": [
    "from sklearn.preprocessing import MinMaxScaler\n",
    "from sklearn.preprocessing import StandardScaler\n",
    "\n",
    "# scaler = MinMaxScaler().fit(x)\n",
    "# scaler = StandardScaler().fit(x)\n",
    "# x = pd.DataFrame(scaler.transform(x), index=x.index, columns=x.columns)"
   ]
  },
  {
   "cell_type": "markdown",
   "metadata": {},
   "source": [
    "### Primers aprenentatges i mètrica a utilitzar\n",
    "A continuació es farà la predicció amb un seguit de models sense dedicar temps als paràmetres. Simplement servirà per veure si hi ha una homogenietat entre els resultats. Com a mètrica a utilitzar, al haver de predir un número i no pas classificar entre classes, ens fixarem en el Mean Squared Error. \n",
    "\n",
    "No obstant, les mètriques utilitzades per Sklearn funcionen quelcom diferent. Quan s'ha d'especificar un valor per scoring, el que hi ha disponible és 'neg_mean_squared_error', que bàsicament dona el resultat en negatiu. \n",
    "La raó és la comentada [aquí](https://scikit-learn.org/stable/modules/model_evaluation.html#common-cases-predefined-values). Com a resum, hi ha la convenció que els valors grans són millors que els petits. Les mètriques que mesuren distàncies, com per exemple Mean Squared Error, estan disponibles com a 'neg_mean_squared_error' i retornen el valor negat de la mètrica.\n",
    "\n",
    "Com a punt final respecte la mètrica, els resultats es mostraran directament fent l'arrel quadrada i adaptant-los a notes avaluades sobre 10. És a dir, el valor mostrat serà exactament la distància absoluta a la que es queden les prediccions si avaluem les notes sobre 10."
   ]
  },
  {
   "cell_type": "code",
   "execution_count": 41,
   "metadata": {},
   "outputs": [
    {
     "name": "stdout",
     "output_type": "stream",
     "text": [
      "Decision Tree Regressor: 0.7809670842681601\n",
      "Ridge: 0.5810559548998069\n",
      "Linear Regression: 0.5815476529448929\n",
      "Lasso: 0.6006076877008069\n",
      "LinearSVR: 0.6109810753680456\n",
      "XGBRegressor: 0.6394769231096677\n"
     ]
    },
    {
     "data": {
      "image/png": "[encoded data removed]",
      "text/plain": [
       "<Figure size 432x288 with 1 Axes>"
      ]
     },
     "metadata": {
      "needs_background": "light"
     },
     "output_type": "display_data"
    }
   ],
   "source": [
    "from sklearn.tree import DecisionTreeRegressor\n",
    "from sklearn.linear_model import LinearRegression, Lasso\n",
    "from sklearn.linear_model import Ridge\n",
    "from sklearn.svm import LinearSVR\n",
    "import xgboost as xgb\n",
    "\n",
    "from sklearn.model_selection import cross_val_score\n",
    "\n",
    "names = ['Decision Tree Regressor','Ridge', 'Linear Regression',  'Lasso', 'LinearSVR', 'XGBRegressor']\n",
    "\n",
    "clf_list = [DecisionTreeRegressor(random_state=0),\n",
    "            Ridge(),\n",
    "            LinearRegression(),\n",
    "            Lasso(), \n",
    "            LinearSVR(),\n",
    "            xgb.XGBRegressor()]\n",
    "\n",
    "scores = []\n",
    "for name, clf in zip(names, clf_list):\n",
    "    print(name, end=': ')\n",
    "    print(abs(cross_val_score(clf, x, y, cv=kf, scoring='neg_root_mean_squared_error').mean()/2))\n",
    "    scores.append(abs(cross_val_score(clf, x, y, cv=kf, scoring='neg_root_mean_squared_error').mean()/2))\n",
    "\n",
    "x_pos = [i for i, _ in enumerate (names)]\n",
    "plt.bar(x_pos, scores)\n",
    "plt.ylabel('MRSE')\n",
    "plt.title('Comparació de models', fontsize=15)\n",
    "plt.xticks(x_pos, names)\n",
    "plt.ylim([0.2, 0.9])\n",
    "plt.show()\n"
   ]
  },
  {
   "cell_type": "markdown",
   "metadata": {},
   "source": [
    "#### Mitjana i desviació estàndard\n",
    "Els resultats semblen ser molt bons. El problema, però, és que de moment només s'utilitza la mitjana de les prediccions, però en cap moment s'està mirant la desviació estàndard. \n",
    "Els següent resultats mostren tant la mitjana com la desviació estàndard del MRSE dels resultats anteriors.\n",
    "\n",
    "Quan la desviació estàndard és petita, significa que les prediccions són més estables i solen donar uns valors semblants. En canvi, quan és alta les prediccions no són tant estables i una pot ser molt bona i una altra molt dolenta. Als resultats obtinguts totes les desviacions estàndards es poden considerar baixes i, per tant, bones.\n",
    "\n",
    "Es poden donar casos, però, on la mitjana de la mètrica utilitzada sigui considerada bona, però hi hagi molta desviació estàndard. Aquestes situacions no són desitjables doncs no et pots fiar que totes les prediccions seran d'acord amb la mitjana."
   ]
  },
  {
   "cell_type": "code",
   "execution_count": 42,
   "metadata": {},
   "outputs": [
    {
     "name": "stdout",
     "output_type": "stream",
     "text": [
      "Decision Tree Regressor: MRSE:  0.7809670842681601\n",
      "Desviació estàndard:  0.07730632335989951 \n",
      "\n",
      "Ridge: MRSE:  0.5810559548998069\n",
      "Desviació estàndard:  0.09398739817977715 \n",
      "\n",
      "Linear Regression: MRSE:  0.5815476529448929\n",
      "Desviació estàndard:  0.09380993334664992 \n",
      "\n",
      "Lasso: MRSE:  0.6006076877008069\n",
      "Desviació estàndard:  0.09688894310957402 \n",
      "\n",
      "LinearSVR: MRSE:  0.6195428103444909\n",
      "Desviació estàndard:  0.0870657418078971 \n",
      "\n",
      "XGBRegressor: MRSE:  0.6394769231096677\n",
      "Desviació estàndard:  0.11777454182847932 \n",
      "\n"
     ]
    }
   ],
   "source": [
    "for name, clf in zip(names, clf_list):\n",
    "    print(name, end=': ')\n",
    "    notes = (abs(cross_val_score(clf, x, y, cv=kf, scoring='neg_root_mean_squared_error')))\n",
    "    print('MRSE: ', notes.mean()/2)\n",
    "    print('Desviació estàndard: ', np.std(notes)/2, '\\n')"
   ]
  },
  {
   "cell_type": "markdown",
   "metadata": {},
   "source": [
    "### Visualització gràfica de les prediccions\n",
    "\n",
    "A continuació es mostrarà gràficament les prediccions i el valor real, per veure-ho més fàcilment.\n",
    "\n",
    "Els següents gràfics permeten veure l'error de cada una de les prediccions. L'eix X és el valor real de la nota, mentre que l'eix Y és el valor que s'ha prediït. La línia horitzontal ens permet veure la distància vertical que hi ha entre el valor de l'eix Y i el que hauria de tenir. Es podria utilitzar per calcular de forma manual l'error quadràtic.\n"
   ]
  },
  {
   "cell_type": "code",
   "execution_count": 43,
   "metadata": {
    "scrolled": false
   },
   "outputs": [
    {
     "data": {
      "image/png": "[encoded data removed]",
      "text/plain": [
       "<Figure size 504x504 with 1 Axes>"
      ]
     },
     "metadata": {
      "needs_background": "light"
     },
     "output_type": "display_data"
    },
    {
     "data": {
      "image/png": "[encoded data removed]",
      "text/plain": [
       "<Figure size 504x504 with 1 Axes>"
      ]
     },
     "metadata": {
      "needs_background": "light"
     },
     "output_type": "display_data"
    },
    {
     "data": {
      "image/png": "[encoded data removed]",
      "text/plain": [
       "<Figure size 504x504 with 1 Axes>"
      ]
     },
     "metadata": {
      "needs_background": "light"
     },
     "output_type": "display_data"
    },
    {
     "data": {
      "image/png": "[encoded data removed]",
      "text/plain": [
       "<Figure size 504x504 with 1 Axes>"
      ]
     },
     "metadata": {
      "needs_background": "light"
     },
     "output_type": "display_data"
    },
    {
     "data": {
      "image/png": "[encoded data removed]",
      "text/plain": [
       "<Figure size 504x504 with 1 Axes>"
      ]
     },
     "metadata": {
      "needs_background": "light"
     },
     "output_type": "display_data"
    },
    {
     "data": {
      "image/png": "[encoded data removed]",
      "text/plain": [
       "<Figure size 504x504 with 1 Axes>"
      ]
     },
     "metadata": {
      "needs_background": "light"
     },
     "output_type": "display_data"
    }
   ],
   "source": [
    "x_train, x_test, y_train, y_test = train_test_split(x, y, test_size=0.15, random_state=9)\n",
    "\n",
    "for name, clf in zip(names, clf_list):  \n",
    "    clf.fit(x_train, y_train)\n",
    "    y_pred = clf.predict(x_test)\n",
    "\n",
    "    plt.figure(figsize=(7,7))\n",
    "    plt.scatter(y_test, y_pred, c='crimson')\n",
    "    p1 = 20\n",
    "    p2 = 0\n",
    "    plt.plot([p1, p2], [p1, p2], 'b-')\n",
    "    plt.xlabel('True Values', fontsize=15)\n",
    "    plt.ylabel('Predictions', fontsize=15)\n",
    "    plt.title(name, fontsize=25)\n",
    "    plt.axis('equal')\n",
    "plt.show()"
   ]
  },
  {
   "cell_type": "markdown",
   "metadata": {},
   "source": [
    "### Buscant nombre de components òptim\n",
    "\n",
    "Utilitzant el Principal Compoment Analysis es pot aconseguir fer combinacions entre atributs i reduir la seva dimensionalitat. Pot ser molt útil quan es té un nombre molt elevat d'atributs i són redundants entre ells. D'aquesta manera, al tenir menys dimensions, la complexitat computacional baixa.\n",
    "\n",
    "Veient els resultats de la gràfica anterior, estem davant d'una reducció de dimensinalitat satisfactòria. No només s'aconsegueix reduir el MSRE fins a 0.56, sinó que el nombre de dimensions baixa fins a 11 per obtenir el millor resultat. "
   ]
  },
  {
   "cell_type": "code",
   "execution_count": 44,
   "metadata": {},
   "outputs": [
    {
     "name": "stdout",
     "output_type": "stream",
     "text": [
      "Millor resultat: 0.5679374377744775 ,  n_components = 12\n"
     ]
    },
    {
     "data": {
      "image/png": "[encoded data removed]",
      "text/plain": [
       "<Figure size 432x288 with 1 Axes>"
      ]
     },
     "metadata": {
      "needs_background": "light"
     },
     "output_type": "display_data"
    }
   ],
   "source": [
    "from sklearn.decomposition import PCA\n",
    "from sklearn.preprocessing import scale \n",
    "from sklearn import model_selection\n",
    "from sklearn.model_selection import RepeatedKFold\n",
    "\n",
    "\n",
    "regr = LinearRegression()\n",
    "mse = []\n",
    "\n",
    "for i in np.arange(1, x.shape[1]):\n",
    "    pca = PCA(n_components=i)\n",
    "    X_reduced = pca.fit_transform(x)\n",
    "    score = -1*model_selection.cross_val_score(regr,\n",
    "               X_reduced, y, cv=kf, scoring='neg_root_mean_squared_error').mean()\n",
    "    mse.append(score/2)\n",
    "plt.plot(mse)\n",
    "plt.xlabel('Number of Principal Components')\n",
    "plt.ylabel('MRSE')\n",
    "\n",
    "bestNComponents = np.argmin(mse)\n",
    "print(\"Millor resultat:\", min(mse),\",  n_components =\", bestNComponents)"
   ]
  },
  {
   "cell_type": "markdown",
   "metadata": {},
   "source": [
    "### Hyperparameter Search\n",
    "\n",
    "Fins ara s'ha estat fent proves amb models sense configurar. Moltes vegades, els millor resultats no s'aconsegueixen triant un model o un altre, sinó triant els hiperparàmetres correctes. \n",
    "Són els encarregats de modificar el comportament (velocitat, estructura, rendiment, prediccions) dels models. \n",
    "Un bon exemple és el learning rate. Quan és molt gran, l’aprenentatge no és suficientment sensitiu. Quan és molt petit, l’aprenentatge és tant sensitiu que el temps d’execució pot resultar sent infinit.\n",
    "\n",
    "La tasca de trobar els paràmetres correctes és molt feixuga i comporta molt temps. Si bé, tenint un coneixement previ dels models, pot ser útil per aproximar el valor d’un paràmetre, la gran majoria de vegades es necessita recórrer a mètodes que provin un seguit de paràmetres, extreguin les mètriques de rendiment i es quedin amb el millor model.\n",
    "\n",
    "Per aconseguir-ho, doncs, es pot aplicar les següents tècniques:\n",
    "\n",
    "- Grid Search: És la manera més bàsica de fer “hyperparameter tuning”, basant-se en fer totes les combinacions possibles d’un conjunt de paràmetres especificats prèviament.\n",
    "\n",
    "- Random Search: En comptes d’especificar els valors que podrà agafar cada paràmetre, s’especifica un interval. Per cada iteració s’agafa un valor de l’interval de cada paràmetre i es fa la prova. \n",
    "\n",
    "- Bayesian Search: Aquest mètodes es basa en un principi diferent. Cada iteració optimitza els valors dels paràmetres basant-se en amb les mètriques que l’anterior iteració. És útil quan es té un una gran quantitat de dades, l’aprenentatge és lent i es necessita minimitzar el “tuning time”.\n",
    "\n",
    "Quan es tenen recursos limitats, per exemple un ordinador personal, és recomanable provar el “Bayesian”.  Al seleccionar els valors de forma informada prioritzant els que semblen més prometedors, aquest mètode pot trobar els millors paràmetres en poc temps."
   ]
  },
  {
   "cell_type": "markdown",
   "metadata": {},
   "source": [
    "#### Primera cerca pel Decision Tree Regressor\n",
    "Per fer la prova s'utilitzarà  el model que ha donat resultats més dolents anteriorment, el Decision Tree Regressor, així es veurà fins a quin punt una bona elecció de paràmetres afecta les prediccions."
   ]
  },
  {
   "cell_type": "code",
   "execution_count": 45,
   "metadata": {},
   "outputs": [
    {
     "name": "stdout",
     "output_type": "stream",
     "text": [
      "Best Hyperparameters: OrderedDict([('max_depth', 16), ('max_features', 'auto'), ('max_leaf_nodes', 10), ('min_samples_leaf', 9), ('min_weight_fraction_leaf', 0.0), ('splitter', 'best')])\n"
     ]
    }
   ],
   "source": [
    "from sklearn.model_selection import GridSearchCV\n",
    "from skopt import BayesSearchCV\n",
    "\n",
    "parameters={\"splitter\":[\"best\",\"random\"],\n",
    "            \"max_depth\" : [None,1,3,7,12,16,21,25,30],\n",
    "           \"min_samples_leaf\":[1,2,3,4,5,6,7,8,9,10],\n",
    "           \"min_weight_fraction_leaf\":[0.0,0.1,0.2,0.3,0.4,0.5],\n",
    "           \"max_features\":[\"auto\",\"log2\",\"sqrt\",None],\n",
    "           \"max_leaf_nodes\":[None,10,20,30,40,50,60,70,80,90] }\n",
    "\n",
    "reg_decision_model=DecisionTreeRegressor()\n",
    "kf2 = KFold(n_splits=3, random_state=0, shuffle=True)\n",
    "tuning_model= BayesSearchCV(reg_decision_model, search_spaces=parameters, n_jobs=-1, scoring='neg_root_mean_squared_error',cv=kf2)\n",
    "\n",
    "result = tuning_model.fit(x,y)\n",
    "print('Best Hyperparameters: %s' % result.best_params_)\n",
    "\n"
   ]
  },
  {
   "cell_type": "markdown",
   "metadata": {},
   "source": [
    "Un cop es tenen els paràmetres suposadament òptims, s'apliquen a un nou model i es compara amb un amb paràmetres per defecte.\n",
    "Es pot veure una millora molt bona."
   ]
  },
  {
   "cell_type": "code",
   "execution_count": 46,
   "metadata": {},
   "outputs": [
    {
     "name": "stdout",
     "output_type": "stream",
     "text": [
      "MILLORS PARÀMETRES\n",
      "RMSE:  0.6408567698607008\n",
      "Desviació estàndard:  0.10520554888153325 \n",
      "\n",
      "SENSE PARÀMETRES\n",
      "RMSE:  0.8282525725531624\n",
      "Desviació estàndard:  0.11295211490162188 \n",
      "\n"
     ]
    }
   ],
   "source": [
    "clf = DecisionTreeRegressor()\n",
    "clf.set_params(**result.best_params_)\n",
    "res = (abs(cross_val_score(clf, x, y, cv=kf, scoring='neg_root_mean_squared_error')))\n",
    "print(\"MILLORS PARÀMETRES\")\n",
    "print('RMSE: ', res.mean()/2)\n",
    "print('Desviació estàndard: ', np.std(res)/2, '\\n')\n",
    "\n",
    "clf = DecisionTreeRegressor()\n",
    "res = (abs(cross_val_score(clf, x, y, cv=kf, scoring='neg_root_mean_squared_error')))\n",
    "print('SENSE PARÀMETRES')\n",
    "print('RMSE: ', res.mean()/2)\n",
    "print('Desviació estàndard: ', np.std(res)/2, '\\n')"
   ]
  },
  {
   "cell_type": "markdown",
   "metadata": {},
   "source": [
    "#### Altres cerces per Ridge i Lasso\n",
    "Havent vist que es tenen millores molt bones, es pot provar també a veure si també milloren els models que anteriorment ja tenien bons resultats."
   ]
  },
  {
   "cell_type": "code",
   "execution_count": 47,
   "metadata": {},
   "outputs": [
    {
     "name": "stdout",
     "output_type": "stream",
     "text": [
      "RIDGE\n",
      "Best Hyperparameters: OrderedDict([('alpha', 104)])\n",
      "MILLORS PARÀMETRES\n",
      "RMSE:  0.5693485192969591\n",
      "Desviació estàndard:  0.10418762574818498 \n",
      "\n",
      "SENSE PARÀMETRES\n",
      "RMSE:  0.5810559548998069\n",
      "Desviació estàndard:  0.09398739817977715 \n",
      "\n"
     ]
    }
   ],
   "source": [
    "import warnings\n",
    "warnings.filterwarnings('ignore')\n",
    "\n",
    "ridge_params = {'alpha':[90,92,94,96,98,100,102,104,106,108,110]}\n",
    "\n",
    "reg_decision_model=Ridge()\n",
    "tuning_model= BayesSearchCV(reg_decision_model, search_spaces=ridge_params, n_jobs=-1, scoring='neg_root_mean_squared_error',cv=kf2)\n",
    "\n",
    "result = tuning_model.fit(x,y)\n",
    "print('RIDGE')\n",
    "print('Best Hyperparameters: %s' % result.best_params_)\n",
    "\n",
    "clf = Ridge()\n",
    "clf.set_params(**result.best_params_)\n",
    "res = (abs(cross_val_score(clf, x, y, cv=kf, scoring='neg_root_mean_squared_error')))\n",
    "print(\"MILLORS PARÀMETRES\")\n",
    "print('RMSE: ', res.mean()/2)\n",
    "print('Desviació estàndard: ', np.std(res)/2, '\\n')\n",
    "\n",
    "clf = Ridge()\n",
    "res = (abs(cross_val_score(clf, x, y, cv=kf, scoring='neg_root_mean_squared_error')))\n",
    "print('SENSE PARÀMETRES')\n",
    "print('RMSE: ', res.mean()/2)\n",
    "print('Desviació estàndard: ', np.std(res)/2, '\\n')"
   ]
  },
  {
   "cell_type": "code",
   "execution_count": 48,
   "metadata": {},
   "outputs": [
    {
     "name": "stdout",
     "output_type": "stream",
     "text": [
      "LASSO\n",
      "Best Hyperparameters: OrderedDict([('alpha', 0.1)])\n",
      "MILLORS PARÀMETRES\n",
      "RMSE:  0.5714961449863785\n",
      "Desviació estàndard:  0.09930701375319313 \n",
      "\n",
      "SENSE PARÀMETRES\n",
      "RMSE:  0.6006076877008069\n",
      "Desviació estàndard:  0.09688894310957402 \n",
      "\n"
     ]
    }
   ],
   "source": [
    "lasso_params = {'alpha':[0, 0.0001, 0.001, 0.01, 0.1, 1]}\n",
    "\n",
    "reg_decision_model=Lasso()\n",
    "tuning_model= BayesSearchCV(reg_decision_model, search_spaces=lasso_params, n_jobs=-1, scoring='neg_root_mean_squared_error',cv=kf2)\n",
    "\n",
    "result = tuning_model.fit(x,y)\n",
    "print('LASSO')\n",
    "print('Best Hyperparameters: %s' % result.best_params_)\n",
    "\n",
    "clf = Lasso()\n",
    "clf.set_params(**result.best_params_)\n",
    "res = (abs(cross_val_score(clf, x, y, cv=kf, scoring='neg_root_mean_squared_error')))\n",
    "print(\"MILLORS PARÀMETRES\")\n",
    "print('RMSE: ', res.mean()/2)\n",
    "print('Desviació estàndard: ', np.std(res)/2, '\\n')\n",
    "\n",
    "clf = Lasso()\n",
    "res = (abs(cross_val_score(clf, x, y, cv=kf, scoring='neg_root_mean_squared_error')))\n",
    "print('SENSE PARÀMETRES')\n",
    "print('RMSE: ', res.mean()/2)\n",
    "print('Desviació estàndard: ', np.std(res)/2, '\\n')"
   ]
  },
  {
   "cell_type": "code",
   "execution_count": 49,
   "metadata": {},
   "outputs": [
    {
     "name": "stdout",
     "output_type": "stream",
     "text": [
      "LinearSVR\n",
      "Best Hyperparameters: OrderedDict([('C', 1.0)])\n",
      "MILLORS PARÀMETRES\n",
      "RMSE:  0.6342979473230905\n",
      "Desviació estàndard:  0.0923292351092693 \n",
      "\n",
      "SENSE PARÀMETRES\n",
      "RMSE:  0.6541497054484606\n",
      "Desviació estàndard:  0.0807680413647577 \n",
      "\n"
     ]
    }
   ],
   "source": [
    "svr_params = {'C':[ 0.1, 1, 5, 20, 100]}\n",
    "\n",
    "reg_decision_model=LinearSVR()\n",
    "tuning_model= BayesSearchCV(reg_decision_model, search_spaces=svr_params, n_jobs=-1, scoring='neg_root_mean_squared_error',cv=kf2)\n",
    "\n",
    "result = tuning_model.fit(x,y)\n",
    "print('LinearSVR')\n",
    "print('Best Hyperparameters: %s' % result.best_params_)\n",
    "\n",
    "clf = LinearSVR()\n",
    "clf.set_params(**result.best_params_)\n",
    "res = (abs(cross_val_score(clf, x, y, cv=kf, scoring='neg_root_mean_squared_error')))\n",
    "print(\"MILLORS PARÀMETRES\")\n",
    "print('RMSE: ', res.mean()/2)\n",
    "print('Desviació estàndard: ', np.std(res)/2, '\\n')\n",
    "\n",
    "clf = LinearSVR()\n",
    "res = (abs(cross_val_score(clf, x, y, cv=kf, scoring='neg_root_mean_squared_error')))\n",
    "print('SENSE PARÀMETRES')\n",
    "print('RMSE: ', res.mean()/2)\n",
    "print('Desviació estàndard: ', np.std(res)/2, '\\n')"
   ]
  },
  {
   "cell_type": "markdown",
   "metadata": {},
   "source": [
    "### Boosting\n",
    "\n",
    "Una tècnica àmpliament utilitzada és la de crear Ensambles, o dit d’altra manera, un conjunt de models de Machine learning. Cada model té una predicció diferent, però entre ells es combinen per obtenir una única predicció. L’avantatge de combinar models diferents és que, al funcionar diferents, els seus errors es compensen entre ells. \n",
    "\n",
    "En aquest cas es fa ús del Ada Boosting. Es basa en millorar cada model de forma seqüencial posant més pes en les mostres més mal classificades pel model anterior.\n"
   ]
  },
  {
   "cell_type": "code",
   "execution_count": 50,
   "metadata": {},
   "outputs": [
    {
     "name": "stdout",
     "output_type": "stream",
     "text": [
      "SENSE BOOSTING\n",
      "RMSE:  0.8743816606619534\n",
      "Desviació estàndard:  0.06843173221711554 \n",
      "\n",
      "AMB BOOSTING\n",
      "RMSE:  0.6271704207204405\n",
      "Desviació estàndard:  0.13994439696426927 \n",
      "\n"
     ]
    }
   ],
   "source": [
    "from sklearn.ensemble import AdaBoostRegressor\n",
    "\n",
    "regr_1 = DecisionTreeRegressor(max_depth=25)\n",
    "\n",
    "regr_2 = AdaBoostRegressor(\n",
    "    DecisionTreeRegressor(max_depth=25), n_estimators=300)\n",
    "\n",
    "res = (abs(cross_val_score(regr_1, x, y, cv=kf, scoring='neg_root_mean_squared_error')))\n",
    "print('SENSE BOOSTING')\n",
    "print('RMSE: ', res.mean()/2)\n",
    "print('Desviació estàndard: ', np.std(res)/2, '\\n')\n",
    "\n",
    "res = (abs(cross_val_score(regr_2, x, y, cv=kf, scoring='neg_root_mean_squared_error')))\n",
    "print('AMB BOOSTING')\n",
    "print('RMSE: ', res.mean()/2)\n",
    "print('Desviació estàndard: ', np.std(res)/2, '\\n')\n"
   ]
  },
  {
   "cell_type": "markdown",
   "metadata": {},
   "source": [
    "### Hyperparameter Search + Boosting"
   ]
  },
  {
   "cell_type": "code",
   "execution_count": 52,
   "metadata": {},
   "outputs": [
    {
     "name": "stdout",
     "output_type": "stream",
     "text": [
      "Best Hyperparameters: OrderedDict([('max_depth', 7), ('max_features', 'auto'), ('max_leaf_nodes', 20), ('min_samples_leaf', 5), ('min_weight_fraction_leaf', 0.0), ('splitter', 'best')])\n",
      "SENSE BOOSTING\n",
      "RMSE:  0.8078852007164012\n",
      "Desviació estàndard:  0.048399492422763715 \n",
      "\n",
      "AMB BOOSTING\n",
      "RMSE:  0.5911950408915206\n",
      "Desviació estàndard:  0.11943520345505684 \n",
      "\n"
     ]
    }
   ],
   "source": [
    "from sklearn.ensemble import AdaBoostRegressor\n",
    "\n",
    "parameters={\"splitter\":[\"best\",\"random\"],\n",
    "            \"max_depth\" : [None,1,3,7,12,16,21,25,30],\n",
    "           \"min_samples_leaf\":[1,2,3,4,5,6,7,8,9,10],\n",
    "           \"min_weight_fraction_leaf\":[0.0,0.1,0.2,0.3,0.4,0.5],\n",
    "           \"max_features\":[\"auto\",\"log2\",\"sqrt\",None],\n",
    "           \"max_leaf_nodes\":[None,10,20,30,40,50,60,70,80,90] }\n",
    "\n",
    "\n",
    "\n",
    "\n",
    "reg_decision_model=DecisionTreeRegressor()\n",
    "kf2 = KFold(n_splits=3, random_state=0, shuffle=True)\n",
    "tuning_model= BayesSearchCV(reg_decision_model, search_spaces=parameters, n_jobs=-1, scoring='neg_root_mean_squared_error',cv=kf2)\n",
    "\n",
    "result = tuning_model.fit(x,y)\n",
    "print('Best Hyperparameters: %s' % result.best_params_)\n",
    "\n",
    "\n",
    "regr_1 = DecisionTreeRegressor()\n",
    "\n",
    "regr2_b = DecisionTreeRegressor()\n",
    "regr2_b.set_params(**result.best_params_)\n",
    "\n",
    "regr_2 = AdaBoostRegressor(\n",
    "    regr2_b, n_estimators=300)\n",
    "\n",
    "res = (abs(cross_val_score(regr_1, x, y, cv=kf, scoring='neg_root_mean_squared_error')))\n",
    "print('SENSE BOOSTING')\n",
    "print('RMSE: ', res.mean()/2)\n",
    "print('Desviació estàndard: ', np.std(res)/2, '\\n')\n",
    "\n",
    "res = (abs(cross_val_score(regr_2, x, y, cv=kf, scoring='neg_root_mean_squared_error')))\n",
    "print('AMB BOOSTING')\n",
    "print('RMSE: ', res.mean()/2)\n",
    "print('Desviació estàndard: ', np.std(res)/2, '\\n')"
   ]
  },
  {
   "cell_type": "markdown",
   "metadata": {},
   "source": [
    "## Eliminació d'atributs amb massa bias\n",
    "De moment, tots els models semblen donar un molt bon resultat, però pot no ser realment així. Per sortir del dubte, podem mirar la importància de cada atribut utilitzant el Decision Tree Classifier.\n",
    "\n",
    "Es veu clarament que més del 80% de la capacitat predictiva de l'algorisme s'aconsegueix amb, i només amb, l'atribut G2 ('Second term grade'). "
   ]
  },
  {
   "cell_type": "code",
   "execution_count": null,
   "metadata": {},
   "outputs": [],
   "source": [
    "tree = DecisionTreeRegressor()\n",
    "tree.fit(x_train, y_train)\n",
    "importances = tree.feature_importances_\n",
    "indices = np.argsort(importances)[::-1]\n",
    "valors = []\n",
    "labels = []\n",
    "for f in range(x_train.shape[1]):\n",
    "    valors.append(importances[indices[f]])\n",
    "    labels.append(x_train.columns.values[indices[f]])\n",
    "f, ax = plt.subplots(figsize=(4, 4))\n",
    "plt.pie(valors, \n",
    "        labels=labels,\n",
    "        autopct='%1.1f%%', startangle=90)\n",
    "axis = plt.axis('equal')"
   ]
  },
  {
   "cell_type": "markdown",
   "metadata": {},
   "source": [
    "Fent una altra prova esborrant l'atribut G2, veiem que el G1 ('First term grade') porta a un resultat similar que l'anterior.\n",
    "És només quan eliminem ambdós atributs que ja tenim una importància més distribuida entre els restants."
   ]
  },
  {
   "cell_type": "code",
   "execution_count": null,
   "metadata": {},
   "outputs": [],
   "source": [
    "x_train_drop = x_train.drop(columns=['G2'])\n",
    "tree = DecisionTreeRegressor()\n",
    "tree.fit(x_train_drop, y_train)\n",
    "importances = tree.feature_importances_\n",
    "indices = np.argsort(importances)[::-1]\n",
    "valors = []\n",
    "labels = []\n",
    "for f in range(x_train_drop.shape[1]):\n",
    "    valors.append(importances[indices[f]])\n",
    "    labels.append(x_train_drop.columns.values[indices[f]])\n",
    "f, ax = plt.subplots(figsize=(4, 4))\n",
    "plt.pie(valors, \n",
    "        labels=labels,\n",
    "        autopct='%1.1f%%', startangle=90)\n",
    "axis = plt.axis('equal')\n",
    "\n",
    "x_train_drop = x_train.drop(columns=['G1', 'G2'])\n",
    "tree = DecisionTreeRegressor()\n",
    "tree.fit(x_train_drop, y_train)\n",
    "importances = tree.feature_importances_\n",
    "indices = np.argsort(importances)[::-1]\n",
    "valors = []\n",
    "labels = []\n",
    "for f in range(x_train_drop.shape[1]):\n",
    "    valors.append(importances[indices[f]])\n",
    "    labels.append(x_train_drop.columns.values[indices[f]])\n",
    "f, ax = plt.subplots(figsize=(4, 4))\n",
    "plt.pie(valors, \n",
    "        labels=labels,\n",
    "        autopct='%1.1f%%', startangle=90)\n",
    "axis = plt.axis('equal')"
   ]
  },
  {
   "cell_type": "markdown",
   "metadata": {},
   "source": [
    "La gràcia de poder predir les notes finals és fer-ho al començament del curs escolar, no quan ja es tenen les notes parcials. Fent les mateixes proves que anteiorment, però sense els atributs G2 i G1, s'obtenen els següents resultats."
   ]
  },
  {
   "cell_type": "code",
   "execution_count": null,
   "metadata": {
    "scrolled": false
   },
   "outputs": [],
   "source": [
    "x_drop = x.drop(columns=['G2', 'G1'])\n",
    "for name, clf in zip(names, clf_list):\n",
    "    print(name, end=': ')\n",
    "    notes = (abs(cross_val_score(clf, x_drop, y, cv=kf, scoring='neg_root_mean_squared_error')))\n",
    "#     print(notes)\n",
    "    print('MRSE: ', notes.mean()/2)\n",
    "    print('Desviació estàndard: ', np.std(notes)/2, '\\n')\n",
    "    \n",
    "x_train, x_test, y_train, y_test = train_test_split(x_drop, y, test_size=0.15, random_state=9)\n",
    "\n",
    "for name, clf in zip(names, clf_list):  \n",
    "    clf.fit(x_train, y_train)\n",
    "    y_pred = clf.predict(x_test)\n",
    "\n",
    "    plt.figure(figsize=(7,7))\n",
    "    plt.scatter(y_test, y_pred, c='crimson')\n",
    "    p1 = 20\n",
    "    p2 = 0\n",
    "    plt.plot([p1, p2], [p1, p2], 'b-')\n",
    "    plt.xlabel('True Values', fontsize=15)\n",
    "    plt.ylabel('Predictions', fontsize=15)\n",
    "    plt.title(name, fontsize=25)\n",
    "    plt.axis('equal')\n",
    "plt.show()"
   ]
  },
  {
   "cell_type": "code",
   "execution_count": null,
   "metadata": {},
   "outputs": [],
   "source": []
  }
 ],
 "metadata": {
  "kernelspec": {
   "display_name": "Python 3",
   "language": "python",
   "name": "python3"
  },
  "language_info": {
   "codemirror_mode": {
    "name": "ipython",
    "version": 3
   },
   "file_extension": ".py",
   "mimetype": "text/x-python",
   "name": "python",
   "nbconvert_exporter": "python",
   "pygments_lexer": "ipython3",
   "version": "3.8.5"
  }
 },
 "nbformat": 4,
 "nbformat_minor": 4
}
